{
 "cells": [
  {
   "cell_type": "markdown",
   "metadata": {},
   "source": [
    "# Multi-Objective Ackley Function\n",
    "# optimized using MOO Easy Tool"
   ]
  },
  {
   "cell_type": "markdown",
   "metadata": {
    "tags": []
   },
   "source": [
    "## Initialization"
   ]
  },
  {
   "cell_type": "markdown",
   "metadata": {},
   "source": [
    "### MOO imports"
   ]
  },
  {
   "cell_type": "code",
   "execution_count": 5,
   "metadata": {},
   "outputs": [],
   "source": [
    "import requests\n",
    "import os\n",
    "## Set API back-end direction\n",
    "backend=\"http://138.100.20.80/api/\""
   ]
  },
  {
   "cell_type": "markdown",
   "metadata": {},
   "source": [
    "### Create new experiment"
   ]
  },
  {
   "cell_type": "code",
   "execution_count": 6,
   "metadata": {},
   "outputs": [
    {
     "name": "stdout",
     "output_type": "stream",
     "text": [
      "{'_content': b'{\"id\":60,\"name\":\"MOAckley_1inputd\",\"n_ins\":1,\"input_names\":[\"x\"],\"input_mms\":[[-2.0,2.0]],\"n_objs\":2,\"objective_names\":[\"f1(x)\",\"f2(x)\"],\"objective_mms\":[false,false],\"n_cons\":0,\"kernel\":null,\"acq_id\":2,\"acqfunct_hps\":{\"N\":1000,\"M\":50},\"X\":null,\"Y\":null,\"next_x\":null,\"adh\":null,\"agd\":null,\"ns\":null}', '_content_consumed': True, '_next': None, 'status_code': 200, 'headers': {'Server': 'nginx/1.18.0 (Ubuntu)', 'Date': 'Mon, 25 Apr 2022 10:22:46 GMT', 'Content-Type': 'application/json', 'Content-Length': '300', 'Connection': 'keep-alive'}, 'raw': <urllib3.response.HTTPResponse object at 0x7fba01360b70>, 'url': 'http://138.100.20.80/api/startexp', 'encoding': 'utf-8', 'history': [], 'reason': 'OK', 'cookies': <RequestsCookieJar[]>, 'elapsed': datetime.timedelta(microseconds=458282), 'request': <PreparedRequest [POST]>, 'connection': <requests.adapters.HTTPAdapter object at 0x7fba387d97b8>}\n",
      "{'name': 'MOAckley_1inputd', 'n_ins': 1, 'input_names': ['x'], 'input_mms': [[-2.0, 2.0]], 'n_objs': 2, 'objective_names': ['f1(x)', 'f2(x)'], 'objective_mms': [False, False], 'n_cons': 0, 'kernel': None, 'acq_id': 2, 'acqfunct_hps': {'N': 1000, 'M': 50}, 'id': 60, 'X': None, 'Y': None, 'next_x': None, 'adh': None, 'agd': None, 'ns': None}\n"
     ]
    }
   ],
   "source": [
    "experiment = {\n",
    "    \"name\": \"MOAckley_1inputd\",\n",
    "    \"n_ins\": 1, \n",
    "    \"input_names\": [\"x\"], \n",
    "    \"input_mms\": [[-2, 2]],\n",
    "    \"n_objs\": 2,\n",
    "    \"objective_names\": [\"f1(x)\",\"f2(x)\"],\n",
    "    \"objective_mms\": [False, False],\n",
    "    \"n_cons\": 0,\n",
    "    \"kernel\": 'RBF',\n",
    "    \"acq_id\": 2,\n",
    "    \"acqfunct_hps\": {\"N\": 1000, \"M\": 50}\n",
    "}\n",
    "\n",
    "response = requests.post(backend+'startexp', json=experiment)\n",
    "print(response.__dict__)\n",
    "if response.status_code==200:\n",
    "    response = response.json()\n",
    "    for key in response:\n",
    "        experiment[key]=response[key]\n",
    "\n",
    "print(experiment)"
   ]
  },
  {
   "cell_type": "markdown",
   "metadata": {},
   "source": [
    "### Define Evaluation Function"
   ]
  },
  {
   "cell_type": "code",
   "execution_count": 7,
   "metadata": {},
   "outputs": [],
   "source": [
    "import numpy as np\n",
    "def ackley(xx, a=20, b=0.2, c=2*np.pi):\n",
    "\n",
    "    d = len(xx)\n",
    "\n",
    "    sum1 = np.sum(xx**2)\n",
    "    sum2 = np.sum(np.cos(c*xx))\n",
    "\n",
    "    term1 = -a * np.exp(-b*np.sqrt(sum1/d))\n",
    "    term2 = -np.exp(sum2/d)\n",
    "\n",
    "    return term1 + term2 + a + np.exp(1)\n",
    "\n",
    "def MOOackley(xx, c1=0.5, c2=-0.5, a=20, b=0.2, c=2*np.pi):\n",
    "    return np.array([ackley(np.array([xx-c1])),ackley(np.array([xx-c2]))])\n",
    "\n",
    "def evaluation(x):\n",
    "    return MOOackley(x, c1=-.6, c2=.6)"
   ]
  },
  {
   "cell_type": "markdown",
   "metadata": {
    "tags": []
   },
   "source": [
    "## First iteration"
   ]
  },
  {
   "cell_type": "code",
   "execution_count": 8,
   "metadata": {},
   "outputs": [],
   "source": [
    "x_best = np.random.uniform(experiment[\"input_mms\"][0][0], experiment[\"input_mms\"][0][1], experiment[\"n_ins\"])\n",
    "y_best = evaluation(x_best)\n",
    "response = requests.post(backend+\"setsample/\"+str(experiment[\"id\"]), json={\"x\": list(x_best), \"y\": list(y_best)})"
   ]
  },
  {
   "cell_type": "markdown",
   "metadata": {},
   "source": [
    "## Main Loop"
   ]
  },
  {
   "cell_type": "code",
   "execution_count": 9,
   "metadata": {},
   "outputs": [],
   "source": [
    "for i in range(49):\n",
    "    response = requests.get(backend+\"getsample/next/\"+str(experiment[\"id\"]))\n",
    "\n",
    "    ## Charge next configuration \n",
    "    x_best = np.array(response.json()[\"next_x\"])\n",
    "    y_best = evaluation(x_best)\n",
    "\n",
    "    response = requests.post(backend+\"setsample/\"+str(experiment[\"id\"]), json={\"x\": list(x_best), \"y\": list(y_best)})"
   ]
  }
 ],
 "metadata": {
  "interpreter": {
   "hash": "5ff4c3eb246f2b52b7f298535ee10c6d55e8929659d135abbc88f0b5728f4230"
  },
  "kernelspec": {
   "display_name": "Python 3 (ipykernel)",
   "language": "python",
   "name": "python3"
  },
  "language_info": {
   "codemirror_mode": {
    "name": "ipython",
    "version": 3
   },
   "file_extension": ".py",
   "mimetype": "text/x-python",
   "name": "python",
   "nbconvert_exporter": "python",
   "pygments_lexer": "ipython3",
   "version": "3.7.3"
  }
 },
 "nbformat": 4,
 "nbformat_minor": 4
}
