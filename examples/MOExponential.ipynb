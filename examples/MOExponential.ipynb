{
 "cells": [
  {
   "cell_type": "markdown",
   "metadata": {},
   "source": [
    "# Multi-Objective Exponential Function\n",
    "# optimized using MOO Easy Tool"
   ]
  },
  {
   "cell_type": "markdown",
   "metadata": {
    "tags": []
   },
   "source": [
    "## Initialization"
   ]
  },
  {
   "cell_type": "markdown",
   "metadata": {},
   "source": [
    "### MOO imports"
   ]
  },
  {
   "cell_type": "code",
   "execution_count": null,
   "metadata": {},
   "outputs": [],
   "source": [
    "import requests\n",
    "import os\n",
    "## Set API back-end direction\n",
    "backend=\"http://138.100.20.80/api/\""
   ]
  },
  {
   "cell_type": "markdown",
   "metadata": {},
   "source": [
    "### Create new experiment"
   ]
  },
  {
   "cell_type": "code",
   "execution_count": null,
   "metadata": {},
   "outputs": [],
   "source": [
    "experiment = {\n",
    "    \"name\": \"MOExponential_2inputd\",\n",
    "    \"n_ins\": 1, \n",
    "    \"input_names\": [\"x1\", \"x2\"], \n",
    "    \"input_mms\": [[-2, 2],[-2, 2]],\n",
    "    \"n_objs\": 2,\n",
    "    \"objective_names\": [\"f1(x)\",\"f2(x)\"],\n",
    "    \"objective_mms\": [False, False],\n",
    "    \"n_cons\": 0,\n",
    "    \"kernel\": 'RBF',\n",
    "    \"acq_id\": 2,\n",
    "    \"acqfunct_hps\": {\"N\": 1000, \"M\": 50}\n",
    "}\n",
    "\n",
    "response = requests.post(backend+'startexp', json=experiment)\n",
    "print(response.__dict__)\n",
    "if response.status_code==200:\n",
    "    response = response.json()\n",
    "    for key in response:\n",
    "        experiment[key]=response[key]\n",
    "\n",
    "print(experiment)"
   ]
  },
  {
   "cell_type": "markdown",
   "metadata": {},
   "source": [
    "### Define Evaluation Function"
   ]
  },
  {
   "cell_type": "code",
   "execution_count": null,
   "metadata": {},
   "outputs": [],
   "source": [
    "import numpy as np\n",
    "\n",
    "def MOOexponential(xx, c1=-0.5, c2=0.5):\n",
    "    return np.array([1-np.exp(-np.sum((xx-c1)**2)), 1-np.exp(-np.sum((xx-c2)**2))])\n",
    "\n",
    "def evaluation(x):\n",
    "    return MOOexponential(x, c1=-.6, c2=.6)"
   ]
  },
  {
   "cell_type": "markdown",
   "metadata": {
    "tags": []
   },
   "source": [
    "## First iteration"
   ]
  },
  {
   "cell_type": "code",
   "execution_count": null,
   "metadata": {},
   "outputs": [],
   "source": [
    "x_best = np.random.uniform(experiment[\"input_mms\"][0][0], experiment[\"input_mms\"][0][1], experiment[\"n_ins\"])\n",
    "y_best = evaluation(x_best)\n",
    "response = requests.post(backend+\"setsample/\"+str(experiment[\"id\"]), json={\"x\": list(x_best), \"y\": list(y_best)})"
   ]
  },
  {
   "cell_type": "markdown",
   "metadata": {},
   "source": [
    "## Main Loop"
   ]
  },
  {
   "cell_type": "code",
   "execution_count": null,
   "metadata": {},
   "outputs": [],
   "source": [
    "for i in range(49):\n",
    "    response = requests.get(backend+\"getsample/next/\"+str(experiment[\"id\"]))\n",
    "\n",
    "    ## Charge next configuration \n",
    "    x_best = np.array(response.json()[\"next_x\"])\n",
    "    y_best = evaluation(x_best)\n",
    "\n",
    "    response = requests.post(backend+\"setsample/\"+str(experiment[\"id\"]), json={\"x\": list(x_best), \"y\": list(y_best)})"
   ]
  }
 ],
 "metadata": {
  "interpreter": {
   "hash": "5ff4c3eb246f2b52b7f298535ee10c6d55e8929659d135abbc88f0b5728f4230"
  },
  "kernelspec": {
   "display_name": "Python 3 (ipykernel)",
   "language": "python",
   "name": "python3"
  },
  "language_info": {
   "codemirror_mode": {
    "name": "ipython",
    "version": 3
   },
   "file_extension": ".py",
   "mimetype": "text/x-python",
   "name": "python",
   "nbconvert_exporter": "python",
   "pygments_lexer": "ipython3",
   "version": "3.7.3"
  }
 },
 "nbformat": 4,
 "nbformat_minor": 4
}
